{
 "cells": [
  {
   "cell_type": "markdown",
   "id": "3b33c507",
   "metadata": {
    "papermill": {
     "duration": 0.03569,
     "end_time": "2023-08-07T12:15:26.924581",
     "exception": false,
     "start_time": "2023-08-07T12:15:26.888891",
     "status": "completed"
    },
    "tags": []
   },
   "source": [
    "# Import"
   ]
  },
  {
   "cell_type": "code",
   "execution_count": 2,
   "id": "944e2d1c",
   "metadata": {
    "execution": {
     "iopub.execute_input": "2023-08-07T12:15:26.997755Z",
     "iopub.status.busy": "2023-08-07T12:15:26.996869Z",
     "iopub.status.idle": "2023-08-07T12:15:30.492687Z",
     "shell.execute_reply": "2023-08-07T12:15:30.490925Z"
    },
    "papermill": {
     "duration": 3.53647,
     "end_time": "2023-08-07T12:15:30.496076",
     "exception": false,
     "start_time": "2023-08-07T12:15:26.959606",
     "status": "completed"
    },
    "tags": []
   },
   "outputs": [],
   "source": [
    "import numpy as np\n",
    "import pandas as pd\n",
    "import lightgbm as lgb\n",
    "import warnings\n",
    "import sklearn\n",
    "import matplotlib.pyplot as plt\n",
    "from sklearn import utils\n",
    "from sklearn.model_selection import StratifiedKFold\n",
    "import random \n",
    "import os\n",
    "import datetime\n",
    "from sklearn.model_selection import train_test_split\n",
    "import xgboost as xgb"
   ]
  },
  {
   "cell_type": "markdown",
   "id": "27cae0ce",
   "metadata": {
    "papermill": {
     "duration": 0.0349,
     "end_time": "2023-08-07T12:15:30.566810",
     "exception": false,
     "start_time": "2023-08-07T12:15:30.531910",
     "status": "completed"
    },
    "tags": []
   },
   "source": [
    "# Config"
   ]
  },
  {
   "cell_type": "code",
   "execution_count": 42,
   "id": "1f2d2a9b",
   "metadata": {
    "execution": {
     "iopub.execute_input": "2023-08-07T12:15:30.639780Z",
     "iopub.status.busy": "2023-08-07T12:15:30.639249Z",
     "iopub.status.idle": "2023-08-07T12:15:30.732179Z",
     "shell.execute_reply": "2023-08-07T12:15:30.730783Z"
    },
    "papermill": {
     "duration": 0.133265,
     "end_time": "2023-08-07T12:15:30.735374",
     "exception": false,
     "start_time": "2023-08-07T12:15:30.602109",
     "status": "completed"
    },
    "tags": []
   },
   "outputs": [],
   "source": [
    "class cfg:\n",
    "    running_on_kaggle = False\n",
    "    running_on_private_test = True\n",
    "\n",
    "    filter_warnings = True\n",
    "\n",
    "    seed = 100\n",
    "    create_test_seed = 100\n",
    "\n",
    "    val_folds_num = 10\n",
    "    val_models_num = 50\n",
    "    \n",
    "    add_noise = True\n",
    "    noise_strength = 0.04\n",
    "    undersample_train = True\n",
    "    undersample_val = False\n",
    "    double_positive_data = True\n",
    "    use_val_for_training = False\n",
    "\n",
    "    use_only_cols = [\n",
    "        # 'AB', 'AF', 'AM', 'AX', 'AY', 'BC', 'BP', 'BQ', 'CC', 'CD', 'CR',\n",
    "        # 'CU', 'CW', 'DA', 'DE', 'DF', 'DH', 'DI', 'DL', 'DU', 'DY', 'EB', 'EE',\n",
    "        # 'EH', 'EJ', 'EL', 'EP', 'EU', 'FC', 'FD', 'FE', 'FI', 'FL', 'FR', 'GE',\n",
    "        # 'GF', 'GL',\n",
    "        # '1/CH', '1/DE', '1/DN', '1/EB', '1/EU', \n",
    "        # 'ln_FR', 'ln_BC', 'ln_EB',\n",
    "        # 'epsilon_num',\n",
    "    ]\n",
    "\n",
    "    add_log_cols = True\n",
    "    log_cols = ['DY', 'FR', 'BC', 'EB'] \n",
    "    add_inverse_cols = True\n",
    "    inverse_cols = [ 'CH', 'CL', 'DA', 'DE', 'DN', 'EB', 'EU']\n",
    "\n",
    "    class lgb:\n",
    "        max_bin_by_feature = {\n",
    "            # 'EP': 4, 'FR': 6, 'EL': 4, 'DL': 5, 'GL': 6, 'FI': 6, 'AM': 6, \n",
    "            # 'CS': 8, 'EB': 5, 'DL': 8, 'EE': 4, 'DN': 4, 'GH': 5, 'AB_2*BQ': 8,\n",
    "        }\n",
    "        use_early_stopping = True\n",
    "        boost_rounds = 400\n",
    "        learning_rate = 0.1\n",
    "        early_stopping_rounds = 50\n",
    "        early_stopping_verbose = 0\n",
    "        min_child_samples = 20\n",
    "        num_leaves = 16\n",
    "        max_depth = 10\n",
    "        max_bin = 16\n",
    "        is_unbalance = False\n",
    "        colsample_bytree = 0.7\n",
    "        subsample_freq = 1\n",
    "        subsample = 0.6\n",
    "        reg_alpha = 0\n",
    "        reg_lambda = 0\n",
    "        keep_over_iteration=70\n",
    "\n",
    "    class xgb: \n",
    "        boost_rounds = 500\n",
    "        learning_rate = 0.05\n",
    "        early_stopping_rounds = 50\n",
    "        early_stopping_verbose = 0\n",
    "        gamma = 0.1\n",
    "        min_child_weight = 0.5\n",
    "        max_leaves = 16\n",
    "        max_depth = 10\n",
    "        scale_pos_weight = 1 # probably add weights (pos_samples/neg_samples)\n",
    "        colsample_bytree = 0.7\n",
    "        # subsample_freq = 1\n",
    "        subsample = 0.6\n",
    "        reg_alpha = 0\n",
    "        reg_lambda = 0\n",
    "        max_bin = 32\n",
    "        keep_over_iteration = 140\n",
    "\n",
    "if cfg.running_on_kaggle:\n",
    "    data_dir = '/kaggle/input/icr-identify-age-related-conditions'\n",
    "else:\n",
    "    data_dir = '../icr-identify-age-related-conditions'\n",
    "\n",
    "class paths:\n",
    "    prepared_dir = '../prepared_data'\n",
    "    prepared_data_folds = f'{prepared_dir}/prepared_folds.parquet'\n",
    "    splits_dir = f'{prepared_dir}/splits'\n",
    "\n",
    "    original_train  = f'{data_dir}/train.csv'\n",
    "    original_test = f'{data_dir}/test.csv'\n",
    "    original_greeks = f'{data_dir}/greeks.csv'\n",
    "    original_submission = f'{data_dir}/sample_submission.csv'\n",
    "\n",
    "all_data_df          = pd.read_csv(paths.original_train)\n",
    "test_sample_df       = pd.read_csv(paths.original_test)\n",
    "greeks_df            = pd.read_csv(paths.original_greeks)\n",
    "submission_sample_df = pd.read_csv(paths.original_submission)\n",
    "\n",
    "all_data_df.columns = [col.replace(' ', '') for col in all_data_df.columns]\n",
    "test_sample_df.columns = [col.replace(' ', '') for col in test_sample_df.columns]\n",
    "greeks_df.columns = [col.replace(' ', '') for col in greeks_df.columns]"
   ]
  },
  {
   "cell_type": "code",
   "execution_count": null,
   "id": "491a9ca0",
   "metadata": {},
   "outputs": [],
   "source": []
  },
  {
   "cell_type": "code",
   "execution_count": 4,
   "id": "31154a8f",
   "metadata": {
    "execution": {
     "iopub.execute_input": "2023-08-07T12:15:30.809062Z",
     "iopub.status.busy": "2023-08-07T12:15:30.808259Z",
     "iopub.status.idle": "2023-08-07T12:15:30.817544Z",
     "shell.execute_reply": "2023-08-07T12:15:30.816203Z"
    },
    "papermill": {
     "duration": 0.047996,
     "end_time": "2023-08-07T12:15:30.819983",
     "exception": false,
     "start_time": "2023-08-07T12:15:30.771987",
     "status": "completed"
    },
    "tags": []
   },
   "outputs": [
    {
     "name": "stdout",
     "output_type": "stream",
     "text": [
      "Cols not in features:\n",
      "Id Class "
     ]
    }
   ],
   "source": [
    "numerical_features = ['AB', 'AF', 'AH', 'AM', 'AR', 'AX', 'AY', 'AZ', \n",
    "                      'BC', 'BD', 'BN', 'BP', 'BQ', 'BR', 'BZ', \n",
    "                      'CB', 'CC', 'CD', 'CF', 'CH', 'CL', 'CR', 'CS', 'CU', 'CW', \n",
    "                      'DA', 'DE', 'DF', 'DH', 'DI', 'DL', 'DN', 'DU', 'DV', 'DY', \n",
    "                      'EB', 'EE', 'EG', 'EH', 'EL', 'EP', 'EU', \n",
    "                      'FC', 'FD', 'FE', 'FI', 'FL', 'FR', 'FS', \n",
    "                      'GB', 'GE', 'GF', 'GH', 'GI', 'GL']\n",
    "\n",
    "categorical_features = ['EJ']\n",
    "features = numerical_features + categorical_features\n",
    "\n",
    "print('Cols not in features:')\n",
    "for col in all_data_df.columns:\n",
    "    if col not in features:\n",
    "        print(col, end=' ')"
   ]
  },
  {
   "cell_type": "code",
   "execution_count": 5,
   "id": "412260d6",
   "metadata": {
    "execution": {
     "iopub.execute_input": "2023-08-07T12:15:30.892437Z",
     "iopub.status.busy": "2023-08-07T12:15:30.891086Z",
     "iopub.status.idle": "2023-08-07T12:15:30.897888Z",
     "shell.execute_reply": "2023-08-07T12:15:30.896921Z"
    },
    "papermill": {
     "duration": 0.045747,
     "end_time": "2023-08-07T12:15:30.900567",
     "exception": false,
     "start_time": "2023-08-07T12:15:30.854820",
     "status": "completed"
    },
    "tags": []
   },
   "outputs": [],
   "source": [
    "def seed_everything(seed):\n",
    "    random.seed(seed)\n",
    "    np.random.seed(seed)\n",
    "    os.environ['PYTHONHASHSEED'] = str(seed)\n",
    "seed_everything(cfg.seed)"
   ]
  },
  {
   "cell_type": "markdown",
   "id": "8eb46dfd",
   "metadata": {
    "papermill": {
     "duration": 0.035444,
     "end_time": "2023-08-07T12:15:30.972390",
     "exception": false,
     "start_time": "2023-08-07T12:15:30.936946",
     "status": "completed"
    },
    "tags": []
   },
   "source": [
    "# Helper functions"
   ]
  },
  {
   "cell_type": "code",
   "execution_count": 10,
   "id": "7e2f1944",
   "metadata": {
    "execution": {
     "iopub.execute_input": "2023-08-07T12:15:31.381579Z",
     "iopub.status.busy": "2023-08-07T12:15:31.381121Z",
     "iopub.status.idle": "2023-08-07T12:15:31.389908Z",
     "shell.execute_reply": "2023-08-07T12:15:31.388317Z"
    },
    "papermill": {
     "duration": 0.047966,
     "end_time": "2023-08-07T12:15:31.392540",
     "exception": false,
     "start_time": "2023-08-07T12:15:31.344574",
     "status": "completed"
    },
    "tags": []
   },
   "outputs": [],
   "source": [
    "def competition_log_loss(y_true, y_pred):\n",
    "    # y_true: correct labels 0, 1\n",
    "    # y_pred: predicted probabilities of class=1\n",
    "    # Implements the Evaluation equation with w_0 = w_1 = 1.\n",
    "    # Calculate the number of observations for each class\n",
    "    N_0 = np.sum(1 - y_true)\n",
    "    N_1 = np.sum(y_true)\n",
    "    # Calculate the predicted probabilities for each class\n",
    "    p_1 = np.clip(y_pred, 1e-15, 1 - 1e-15)\n",
    "    p_0 = 1 - p_1\n",
    "    # Calculate the average log loss for each class\n",
    "    log_loss_0 = -np.sum((1 - y_true) * np.log(p_0)) / N_0\n",
    "    log_loss_1 = -np.sum(y_true * np.log(p_1)) / N_1\n",
    "\n",
    "    return (log_loss_0 + log_loss_1)/2"
   ]
  },
  {
   "cell_type": "code",
   "execution_count": 11,
   "id": "83950696",
   "metadata": {},
   "outputs": [],
   "source": [
    "def get_accuracy(y_true, y_pred):\n",
    "    def _format(x):\n",
    "        return np.round(x,4)\n",
    "    \n",
    "    c_ll_result = competition_log_loss(y_true, y_pred)\n",
    "    log_loss = sklearn.metrics.log_loss(y_true, y_pred, labels=[0,1])\n",
    "\n",
    "    thr = 0.5\n",
    "    y_pred_int = (y_pred > thr).astype('int8')\n",
    "    true_pos = ((y_true==1) & (y_pred_int==1)).sum()\n",
    "    # true_neg = ((y_true==0) & (y_pred_int==0)).sum()\n",
    "    false_pos = ((y_true==0) & (y_pred_int==1)).sum()\n",
    "    false_neg = ((y_true==1) & (y_pred_int==0)).sum()\n",
    "    acc = (y_true==y_pred_int).sum() / len(y_true)\n",
    "    prec = true_pos / (true_pos+false_pos)\n",
    "    rec = true_pos / (true_pos+false_neg)\n",
    "\n",
    "    # return (c_ll_result, acc, prec, rec)\n",
    "    return (_format(c_ll_result), _format(log_loss), _format(acc), _format(prec), _format(rec))"
   ]
  },
  {
   "attachments": {},
   "cell_type": "markdown",
   "id": "380f90f3",
   "metadata": {
    "papermill": {
     "duration": 0.037771,
     "end_time": "2023-08-07T12:15:31.714260",
     "exception": false,
     "start_time": "2023-08-07T12:15:31.676489",
     "status": "completed"
    },
    "tags": []
   },
   "source": [
    "# Preprocessing functions"
   ]
  },
  {
   "cell_type": "code",
   "execution_count": 12,
   "id": "44e494b9",
   "metadata": {
    "execution": {
     "iopub.execute_input": "2023-08-07T12:15:31.866632Z",
     "iopub.status.busy": "2023-08-07T12:15:31.865869Z",
     "iopub.status.idle": "2023-08-07T12:15:31.875193Z",
     "shell.execute_reply": "2023-08-07T12:15:31.873803Z"
    },
    "papermill": {
     "duration": 0.049326,
     "end_time": "2023-08-07T12:15:31.878447",
     "exception": false,
     "start_time": "2023-08-07T12:15:31.829121",
     "status": "completed"
    },
    "tags": []
   },
   "outputs": [],
   "source": [
    "def epilon_to_num(x):\n",
    "    if x == 'Unknown':\n",
    "        return 10\n",
    "    else:\n",
    "        m,d,y=map(int, x.split('/'))\n",
    "        num = 2020-y\n",
    "        if num<=1:\n",
    "            num=1\n",
    "        return num\n",
    "def add_epsilon_num(df):\n",
    "    resulting_len = df.merge(greeks_df[['Id', 'Epsilon']], on='Id').shape[0]\n",
    "    # print(resulting_len, df.shape)\n",
    "    # print(df.columns)\n",
    "    if resulting_len == 0:\n",
    "        df['epsilon_num'] = 0\n",
    "    elif resulting_len == len(df):\n",
    "        df = pd.merge(df, greeks_df[['Id', 'Epsilon']], on='Id')\n",
    "        df['epsilon_num'] = df.Epsilon.apply(epilon_to_num) \n",
    "        df = df.drop(columns=['Epsilon'])\n",
    "    else:\n",
    "        raise Exception('Error in adding epsilon num')\n",
    "    return df"
   ]
  },
  {
   "cell_type": "code",
   "execution_count": 13,
   "id": "1764da9e",
   "metadata": {
    "execution": {
     "iopub.execute_input": "2023-08-07T12:15:32.032520Z",
     "iopub.status.busy": "2023-08-07T12:15:32.032058Z",
     "iopub.status.idle": "2023-08-07T12:15:32.038018Z",
     "shell.execute_reply": "2023-08-07T12:15:32.036528Z"
    },
    "papermill": {
     "duration": 0.048378,
     "end_time": "2023-08-07T12:15:32.040665",
     "exception": false,
     "start_time": "2023-08-07T12:15:31.992287",
     "status": "completed"
    },
    "tags": []
   },
   "outputs": [],
   "source": [
    "def label_encode(df):\n",
    "    df['EJ'] = df['EJ'].replace({'A': 0, 'B': 1})\n",
    "    return df"
   ]
  },
  {
   "cell_type": "code",
   "execution_count": 14,
   "id": "8eb1d5a3",
   "metadata": {
    "execution": {
     "iopub.execute_input": "2023-08-07T12:15:32.113942Z",
     "iopub.status.busy": "2023-08-07T12:15:32.113522Z",
     "iopub.status.idle": "2023-08-07T12:15:32.125964Z",
     "shell.execute_reply": "2023-08-07T12:15:32.124497Z"
    },
    "papermill": {
     "duration": 0.052594,
     "end_time": "2023-08-07T12:15:32.128667",
     "exception": false,
     "start_time": "2023-08-07T12:15:32.076073",
     "status": "completed"
    },
    "tags": []
   },
   "outputs": [],
   "source": [
    "# It was better to undersample with repetition (having multiple models, do not know without that)\n",
    "def undersample(df, random_state, replace=False):\n",
    "    negative_values_sampled_df = df.loc[df.Class==0].sample(\n",
    "        n=df[\"Class\"].value_counts()[1], \n",
    "        random_state=random_state, \n",
    "        replace=replace,\n",
    "        ignore_index=True\n",
    "    )\n",
    "    return utils.shuffle(pd.concat([negative_values_sampled_df, df.loc[df.Class==1]], ignore_index=True), random_state=cfg.seed).reset_index(drop=True)"
   ]
  },
  {
   "cell_type": "code",
   "execution_count": 15,
   "id": "ef10d95c",
   "metadata": {
    "execution": {
     "iopub.execute_input": "2023-08-07T12:15:33.733766Z",
     "iopub.status.busy": "2023-08-07T12:15:33.733035Z",
     "iopub.status.idle": "2023-08-07T12:15:33.740787Z",
     "shell.execute_reply": "2023-08-07T12:15:33.739617Z"
    },
    "papermill": {
     "duration": 0.05022,
     "end_time": "2023-08-07T12:15:33.743531",
     "exception": false,
     "start_time": "2023-08-07T12:15:33.693311",
     "status": "completed"
    },
    "tags": []
   },
   "outputs": [],
   "source": [
    "random_uniform_arr = np.random.random_sample(len(all_data_df))\n",
    "\n",
    "def add_noise(df, noise_strength=cfg.noise_strength):\n",
    "    n = len(df)\n",
    "    for col in numerical_features:\n",
    "        if col in df.columns:\n",
    "            noise = (random_uniform_arr[0:n]-0.5) * noise_strength\n",
    "            df[col] = np.clip(df[col] + noise, \n",
    "                                        df[col].min(), \n",
    "                                        df[col].max())\n",
    "\n",
    "    return df"
   ]
  },
  {
   "cell_type": "code",
   "execution_count": 16,
   "id": "b4db7c8d",
   "metadata": {
    "execution": {
     "iopub.execute_input": "2023-08-07T12:15:35.839609Z",
     "iopub.status.busy": "2023-08-07T12:15:35.838553Z",
     "iopub.status.idle": "2023-08-07T12:15:35.846768Z",
     "shell.execute_reply": "2023-08-07T12:15:35.845723Z"
    },
    "papermill": {
     "duration": 0.047663,
     "end_time": "2023-08-07T12:15:35.849156",
     "exception": false,
     "start_time": "2023-08-07T12:15:35.801493",
     "status": "completed"
    },
    "tags": []
   },
   "outputs": [],
   "source": [
    "def add_inverse_cols(train_val_df, test_df):\n",
    "    new_cols_train = {}\n",
    "    new_cols_test = {}\n",
    "    for col in cfg.inverse_cols:\n",
    "        new_cols_train[f'1/{col}'] = 1 / (train_val_df[col]+1e-6)\n",
    "        new_cols_test[f'1/{col}'] = 1 / (test_df[col]+1e-6)\n",
    "\n",
    "    train_val_df = pd.concat([train_val_df, pd.DataFrame(new_cols_train, index=train_val_df.index)], axis=1)\n",
    "    test_df = pd.concat([test_df, pd.DataFrame(new_cols_test, index=test_df.index)], axis=1)\n",
    "\n",
    "    return train_val_df, test_df"
   ]
  },
  {
   "cell_type": "code",
   "execution_count": 17,
   "id": "422e7cae",
   "metadata": {
    "execution": {
     "iopub.execute_input": "2023-08-07T12:15:36.007418Z",
     "iopub.status.busy": "2023-08-07T12:15:36.006831Z",
     "iopub.status.idle": "2023-08-07T12:15:36.016058Z",
     "shell.execute_reply": "2023-08-07T12:15:36.014436Z"
    },
    "papermill": {
     "duration": 0.049911,
     "end_time": "2023-08-07T12:15:36.018767",
     "exception": false,
     "start_time": "2023-08-07T12:15:35.968856",
     "status": "completed"
    },
    "tags": []
   },
   "outputs": [],
   "source": [
    "def add_log_cols(train_val_df, test_df):\n",
    "    new_cols_train = {}\n",
    "    new_cols_test = {}\n",
    "    for col in cfg.log_cols:\n",
    "        new_cols_train[f'ln_{col}'] = np.log(train_val_df[col])\n",
    "        new_cols_test[f'ln_{col}'] = np.log(test_df[col])\n",
    "\n",
    "    train_val_df = pd.concat([train_val_df, pd.DataFrame(new_cols_train, index=train_val_df.index)], axis=1)\n",
    "    test_df = pd.concat([test_df, pd.DataFrame(new_cols_test, index=test_df.index)], axis=1)\n",
    "\n",
    "    return train_val_df, test_df"
   ]
  },
  {
   "cell_type": "markdown",
   "id": "4760718d",
   "metadata": {
    "papermill": {
     "duration": 0.034848,
     "end_time": "2023-08-07T12:15:36.637870",
     "exception": false,
     "start_time": "2023-08-07T12:15:36.603022",
     "status": "completed"
    },
    "tags": []
   },
   "source": [
    "#### Preprocess"
   ]
  },
  {
   "cell_type": "code",
   "execution_count": 39,
   "id": "c458c6f8",
   "metadata": {
    "execution": {
     "iopub.execute_input": "2023-08-07T12:15:36.791264Z",
     "iopub.status.busy": "2023-08-07T12:15:36.790830Z",
     "iopub.status.idle": "2023-08-07T12:15:36.810048Z",
     "shell.execute_reply": "2023-08-07T12:15:36.808901Z"
    },
    "papermill": {
     "duration": 0.058451,
     "end_time": "2023-08-07T12:15:36.812737",
     "exception": false,
     "start_time": "2023-08-07T12:15:36.754286",
     "status": "completed"
    },
    "tags": []
   },
   "outputs": [],
   "source": [
    "def preprocess(train_val_df, test_df):\n",
    "    \n",
    "    train_val_df = label_encode(train_val_df)\n",
    "    test_df = label_encode(test_df)\n",
    "\n",
    "    train_val_df = add_epsilon_num(train_val_df)\n",
    "    test_df = add_epsilon_num(test_df)\n",
    "    # test_df['epsilon_num'] = 1\n",
    "\n",
    "    if cfg.add_inverse_cols:\n",
    "        train_val_df, test_df = add_inverse_cols(train_val_df, test_df)\n",
    "\n",
    "    if cfg.add_log_cols:\n",
    "        train_val_df, test_df = add_log_cols(train_val_df, test_df)\n",
    "\n",
    "    if len(cfg.use_only_cols) > 0:\n",
    "        train_val_df = train_val_df[['Class', 'Id'] + cfg.use_only_cols]\n",
    "        if 'Class' in test_df.columns:\n",
    "            test_df = test_df[['Class', 'Id'] + cfg.use_only_cols]\n",
    "        else:\n",
    "            test_df = test_df[['Id'] + cfg.use_only_cols]\n",
    "\n",
    "    return train_val_df, test_df"
   ]
  },
  {
   "cell_type": "markdown",
   "id": "516d9499",
   "metadata": {
    "papermill": {
     "duration": 0.035183,
     "end_time": "2023-08-07T12:15:36.883121",
     "exception": false,
     "start_time": "2023-08-07T12:15:36.847938",
     "status": "completed"
    },
    "tags": []
   },
   "source": [
    "#### Get folds"
   ]
  },
  {
   "cell_type": "code",
   "execution_count": 19,
   "id": "9801be6f",
   "metadata": {
    "execution": {
     "iopub.execute_input": "2023-08-07T12:15:36.956807Z",
     "iopub.status.busy": "2023-08-07T12:15:36.956232Z",
     "iopub.status.idle": "2023-08-07T12:15:36.965510Z",
     "shell.execute_reply": "2023-08-07T12:15:36.963834Z"
    },
    "papermill": {
     "duration": 0.048995,
     "end_time": "2023-08-07T12:15:36.968161",
     "exception": false,
     "start_time": "2023-08-07T12:15:36.919166",
     "status": "completed"
    },
    "tags": []
   },
   "outputs": [],
   "source": [
    "def get_folds_df(df, greeks_df, stratified_col='Alpha', n_splits=cfg.val_folds_num, seed=None):\n",
    "    if seed is None:\n",
    "        skf = StratifiedKFold(n_splits=n_splits, random_state=None)\n",
    "    else:\n",
    "        skf = StratifiedKFold(n_splits=n_splits, random_state=seed, shuffle=True)\n",
    "        \n",
    "    folds_df = pd.merge(df, greeks_df, on='Id', how='left')[['Id', stratified_col]]\n",
    "    folds_df['fold'] = 0\n",
    "    fold = 0\n",
    "    for train_index, test_index in skf.split(folds_df, folds_df[stratified_col]):\n",
    "        folds_df.loc[test_index, 'fold'] = fold\n",
    "        fold+=1\n",
    "\n",
    "    return folds_df[['Id', 'fold']]"
   ]
  },
  {
   "cell_type": "code",
   "execution_count": 20,
   "id": "c4a1e489",
   "metadata": {
    "execution": {
     "iopub.execute_input": "2023-08-07T12:15:37.129771Z",
     "iopub.status.busy": "2023-08-07T12:15:37.129314Z",
     "iopub.status.idle": "2023-08-07T12:15:37.138368Z",
     "shell.execute_reply": "2023-08-07T12:15:37.137354Z"
    },
    "papermill": {
     "duration": 0.048235,
     "end_time": "2023-08-07T12:15:37.140830",
     "exception": false,
     "start_time": "2023-08-07T12:15:37.092595",
     "status": "completed"
    },
    "tags": []
   },
   "outputs": [],
   "source": [
    "# helpers\n",
    "def get_df_fold_equal(df, folds_df, fold_num):\n",
    "    return pd.merge(\n",
    "        df,\n",
    "        folds_df.loc[folds_df.fold==fold_num].Id, \n",
    "        on='Id', how='inner'\n",
    "    ).reset_index(drop=True)\n",
    "def get_df_fold_not_equal(df, folds_df, fold_num):\n",
    "    return pd.merge(\n",
    "        df,\n",
    "        folds_df.loc[folds_df.fold!=fold_num].Id, \n",
    "        on='Id', how='inner'\n",
    "    ).reset_index(drop=True)"
   ]
  },
  {
   "cell_type": "markdown",
   "id": "f911764d",
   "metadata": {
    "papermill": {
     "duration": 0.034724,
     "end_time": "2023-08-07T12:15:37.211864",
     "exception": false,
     "start_time": "2023-08-07T12:15:37.177140",
     "status": "completed"
    },
    "tags": []
   },
   "source": [
    "# Train"
   ]
  },
  {
   "cell_type": "markdown",
   "id": "ae19053e",
   "metadata": {
    "papermill": {
     "duration": 0.033667,
     "end_time": "2023-08-07T12:15:37.281202",
     "exception": false,
     "start_time": "2023-08-07T12:15:37.247535",
     "status": "completed"
    },
    "tags": []
   },
   "source": [
    "### Classifier"
   ]
  },
  {
   "cell_type": "markdown",
   "id": "fa056242",
   "metadata": {
    "papermill": {
     "duration": 0.033858,
     "end_time": "2023-08-07T12:15:37.349167",
     "exception": false,
     "start_time": "2023-08-07T12:15:37.315309",
     "status": "completed"
    },
    "tags": []
   },
   "source": [
    "* XGBClassifier"
   ]
  },
  {
   "cell_type": "code",
   "execution_count": 21,
   "id": "08298252",
   "metadata": {
    "execution": {
     "iopub.execute_input": "2023-08-07T12:15:37.501451Z",
     "iopub.status.busy": "2023-08-07T12:15:37.500962Z",
     "iopub.status.idle": "2023-08-07T12:15:37.511882Z",
     "shell.execute_reply": "2023-08-07T12:15:37.510628Z"
    },
    "papermill": {
     "duration": 0.051547,
     "end_time": "2023-08-07T12:15:37.514484",
     "exception": false,
     "start_time": "2023-08-07T12:15:37.462937",
     "status": "completed"
    },
    "tags": []
   },
   "outputs": [],
   "source": [
    "def custom_eval_loss(y_true, y_pred):\n",
    "    N_0 = np.sum(1 - y_true)\n",
    "    N_1 = np.sum(y_true)\n",
    "    # Calculate the predicted probabilities for each class\n",
    "    p_1 = np.clip(y_pred, 1e-15, 1 - 1e-15)\n",
    "    p_0 = 1 - p_1\n",
    "\n",
    "    log_loss_0 = -np.sum((1 - y_true) * np.log(p_0)) / N_0\n",
    "    log_loss_1 = -np.sum(y_true * np.log(p_1)) / N_1\n",
    "\n",
    "    return ('custom_eval_loss', (log_loss_0 + log_loss_1)/2, False) \n",
    "\n",
    "def xgb_custom_eval_loss(y_true, y_pred):\n",
    "    N_0 = np.sum(1 - y_true)\n",
    "    N_1 = np.sum(y_true)\n",
    "    # Calculate the predicted probabilities for each class\n",
    "    p_1 = np.clip(y_pred, 1e-15, 1 - 1e-15)\n",
    "    p_0 = 1 - p_1\n",
    "\n",
    "    log_loss_0 = -np.sum((1 - y_true) * np.log(p_0)) / N_0\n",
    "    log_loss_1 = -np.sum(y_true * np.log(p_1)) / N_1\n",
    "\n",
    "    return (log_loss_0 + log_loss_1)/2"
   ]
  },
  {
   "cell_type": "code",
   "execution_count": 22,
   "id": "4438253b",
   "metadata": {},
   "outputs": [],
   "source": [
    "def double_positives(train_df):\n",
    "    train_df = pd.concat([\n",
    "        train_df, \n",
    "        train_df.loc[train_df.Class==1],\n",
    "        # train_df.loc[train_df.Class==1],\n",
    "        ], ignore_index=True)\n",
    "    return utils.shuffle(train_df, random_state=cfg.seed).reset_index(drop=True)"
   ]
  },
  {
   "cell_type": "code",
   "execution_count": 29,
   "id": "5d040897",
   "metadata": {
    "execution": {
     "iopub.execute_input": "2023-08-07T12:15:37.591589Z",
     "iopub.status.busy": "2023-08-07T12:15:37.591154Z",
     "iopub.status.idle": "2023-08-07T12:15:37.625202Z",
     "shell.execute_reply": "2023-08-07T12:15:37.623836Z"
    },
    "papermill": {
     "duration": 0.078106,
     "end_time": "2023-08-07T12:15:37.628553",
     "exception": false,
     "start_time": "2023-08-07T12:15:37.550447",
     "status": "completed"
    },
    "tags": []
   },
   "outputs": [],
   "source": [
    "def xgb_train_predict(train_val_df, test_df):\n",
    "    features = list(train_val_df.columns)\n",
    "    features.remove('Id')\n",
    "    features.remove('Class')\n",
    "    clf_li = []\n",
    "\n",
    "    val_preds_df = train_val_df[['Id', 'Class']].copy()\n",
    "    output_test = None\n",
    "    for i in range(cfg.val_models_num):\n",
    "\n",
    "        if cfg.val_folds_num > 1:\n",
    "            if i%cfg.val_folds_num==0:\n",
    "                folds_df = get_folds_df(\n",
    "                    train_val_df, greeks_df, \n",
    "                    n_splits=cfg.val_folds_num, \n",
    "                    stratified_col='Alpha', \n",
    "                    seed=i\n",
    "                )\n",
    "            \n",
    "            val_fold = i%cfg.val_folds_num\n",
    "            # print(val_fold)\n",
    "            if cfg.use_val_for_training:\n",
    "                train_df = train_val_df.copy()\n",
    "            else:\n",
    "                train_df = get_df_fold_not_equal(train_val_df.copy(), folds_df, val_fold)\n",
    "            val_df = get_df_fold_equal(train_val_df.copy(), folds_df, val_fold)\n",
    "        else:\n",
    "            train_df = train_val_df.copy()\n",
    "            val_df = train_val_df.copy()\n",
    "            val_fold = 0\n",
    "\n",
    "        if cfg.double_positive_data:\n",
    "            train_df = double_positives(train_df)\n",
    "\n",
    "        # Sample to have equal num of classes\n",
    "        if cfg.undersample_train:\n",
    "            train_df = undersample(train_df, random_state=i)\n",
    "\n",
    "        if cfg.add_noise:\n",
    "            train_df = add_noise(train_df, noise_strength=cfg.noise_strength*np.arange(1.0, 1.5, 0.1)[i%5])\n",
    "            \n",
    "        # if i==0:\n",
    "        #     print(train_df.shape)\n",
    "\n",
    "        X_train = train_df.drop('Class', axis=1)\n",
    "        y_train = train_df['Class']\n",
    "        \n",
    "        if cfg.undersample_val:\n",
    "            val_df = undersample(val_df, random_state=i)\n",
    "\n",
    "        # if i==0:\n",
    "        #     print(y_train.value_counts())\n",
    "\n",
    "        X_val = val_df.drop('Class', axis=1)\n",
    "        y_val = val_df['Class']\n",
    "\n",
    "        X_test=test_df.copy()\n",
    "        if not cfg.running_on_private_test:\n",
    "            y_test = X_test['Class']\n",
    "            X_test = X_test.drop(\"Class\",axis=1)\n",
    "        \n",
    "\n",
    "        clf = xgb.XGBClassifier(\n",
    "            tree_method='hist',\n",
    "            max_leaves=cfg.xgb.max_leaves,\n",
    "            n_estimators=cfg.xgb.boost_rounds,\n",
    "            objective='binary:logistic',\n",
    "            learning_rate=cfg.xgb.learning_rate,\n",
    "            metric=None,\n",
    "            # is_unbalance=cfg.is_unbalance,\n",
    "            scale_pos_weight=cfg.xgb.scale_pos_weight, # (sum(negative instances) / sum(positive instances))\n",
    "            random_state=cfg.seed,\n",
    "            max_bin=cfg.xgb.max_bin,\n",
    "            gamma=cfg.xgb.gamma,\n",
    "            max_depth=cfg.xgb.max_depth,\n",
    "            min_child_weight=cfg.xgb.min_child_weight,\n",
    "            colsample_bytree=cfg.xgb.colsample_bytree,\n",
    "            subsample=cfg.xgb.subsample,\n",
    "            reg_alpha=cfg.xgb.reg_alpha,\n",
    "            reg_lambda=cfg.xgb.reg_lambda,\n",
    "            eval_metric=xgb_custom_eval_loss,\n",
    "        )\n",
    "\n",
    "        clf.fit(\n",
    "            X_train.drop(\"Id\",axis=1), \n",
    "            y_train,\n",
    "            eval_set=[\n",
    "                (X_val.drop(\"Id\",axis=1), y_val)],\n",
    "            early_stopping_rounds = cfg.xgb.early_stopping_rounds,\n",
    "            verbose = cfg.xgb.early_stopping_verbose\n",
    "        )\n",
    "        \n",
    "        clf_li.append(clf)\n",
    "\n",
    "        # Val OOF:\n",
    "        new_col = f'preds_{val_fold}_{i}'\n",
    "        pred_val = clf.predict_proba(X_val.drop(\"Id\",axis=1), iteration_range=(0, clf.best_iteration))\n",
    "\n",
    "        if len(pred_val.shape)==2 and pred_val.shape[1]==2:\n",
    "            pred_val = pred_val[:,1]\n",
    "        val_df[new_col] = pred_val\n",
    "        val_preds_df = pd.merge(val_preds_df, val_df[['Id', new_col]], on='Id', how='left')\n",
    "\n",
    "        # Predict test:\n",
    "        if (clf.best_iteration > cfg.xgb.keep_over_iteration):\n",
    "\n",
    "            pred_test = clf.predict_proba(X_test.drop(\"Id\",axis=1), iteration_range=(0, clf.best_iteration))\n",
    "\n",
    "            if len(pred_test.shape)==2 and pred_test.shape[1]==2:\n",
    "                pred_test = pred_test[:,1]\n",
    "\n",
    "            if output_test is None:\n",
    "                output_test = pd.DataFrame(pred_test, columns=['pred' + str(i + 1)])\n",
    "                output_test2 = output_test\n",
    "            else:\n",
    "                output_test = pd.DataFrame(pred_test, columns=['pred' + str(i + 1)])\n",
    "                output_test2 = pd.concat([output_test2, output_test], axis=1)\n",
    "\n",
    "    # Val OOF:\n",
    "    subset = [col for col in val_preds_df.columns if 'preds_' in col]\n",
    "    val_preds_df = val_preds_df.dropna(axis=0, how='all', subset=subset)\n",
    "    val_preds_df['preds'] = val_preds_df[subset].mean(axis=1, skipna=True, numeric_only=True)\n",
    "    val_oof_acc = get_accuracy(y_pred=val_preds_df['preds'], y_true=val_preds_df['Class'])\n",
    "\n",
    "    pred_test = output_test2.mean(axis='columns')\n",
    "    \n",
    "    return pred_test, clf_li, val_oof_acc"
   ]
  },
  {
   "cell_type": "markdown",
   "id": "8c060217",
   "metadata": {
    "papermill": {
     "duration": 0.035496,
     "end_time": "2023-08-07T12:15:37.699795",
     "exception": false,
     "start_time": "2023-08-07T12:15:37.664299",
     "status": "completed"
    },
    "tags": []
   },
   "source": [
    "#### LGBClassifier"
   ]
  },
  {
   "cell_type": "code",
   "execution_count": 24,
   "id": "7a79dc31",
   "metadata": {
    "execution": {
     "iopub.execute_input": "2023-08-07T12:15:37.790849Z",
     "iopub.status.busy": "2023-08-07T12:15:37.789889Z",
     "iopub.status.idle": "2023-08-07T12:15:37.834586Z",
     "shell.execute_reply": "2023-08-07T12:15:37.832874Z"
    },
    "papermill": {
     "duration": 0.098267,
     "end_time": "2023-08-07T12:15:37.838178",
     "exception": false,
     "start_time": "2023-08-07T12:15:37.739911",
     "status": "completed"
    },
    "tags": []
   },
   "outputs": [],
   "source": [
    "def lgb_train_predict(train_val_df, test_df):\n",
    "    features = list(train_val_df.columns)\n",
    "    features.remove('Id')\n",
    "    features.remove('Class')\n",
    "    clf_li = []\n",
    "\n",
    "    max_bin_by_feature = []\n",
    "    if len(cfg.lgb.max_bin_by_feature)>0:\n",
    "        for f in features:\n",
    "            if f in cfg.lgb.max_bin_by_feature:\n",
    "                max_bin_by_feature.append(cfg.lgb.max_bin_by_feature[f])\n",
    "            else:\n",
    "                max_bin_by_feature.append(cfg.lgb.max_bin)\n",
    "\n",
    "    val_preds_df = train_val_df[['Id', 'Class']].copy()\n",
    "    output_test = None\n",
    "    for i in range(cfg.val_models_num):\n",
    "\n",
    "        if cfg.val_folds_num > 1:\n",
    "            if i%cfg.val_folds_num==0:\n",
    "                folds_df = get_folds_df(\n",
    "                    train_val_df, greeks_df, \n",
    "                    n_splits=cfg.val_folds_num, \n",
    "                    stratified_col='Alpha', \n",
    "                    seed=i\n",
    "                )\n",
    "            \n",
    "            val_fold = i%cfg.val_folds_num\n",
    "            if cfg.use_val_for_training:\n",
    "                train_df = train_val_df.copy()\n",
    "            else:\n",
    "                train_df = get_df_fold_not_equal(train_val_df.copy(), folds_df, val_fold)\n",
    "            val_df = get_df_fold_equal(train_val_df.copy(), folds_df, val_fold)\n",
    "        else:\n",
    "            train_df = train_val_df.copy()\n",
    "            val_df = train_val_df.copy()\n",
    "            val_fold = 0\n",
    "\n",
    "        if cfg.double_positive_data:\n",
    "            train_df = double_positives(train_df)\n",
    "\n",
    "        # Sample to have equal num of classes\n",
    "        if cfg.undersample_train:\n",
    "            train_df = undersample(train_df, random_state=i)\n",
    "\n",
    "        if cfg.add_noise:\n",
    "            train_df = add_noise(train_df, noise_strength=cfg.noise_strength*np.arange(1.0, 1.5, 0.1)[i%5])\n",
    "            \n",
    "        # if i==0:\n",
    "        #     print(train_df.shape)\n",
    "\n",
    "        X_train = train_df.drop('Class', axis=1)\n",
    "        y_train = train_df['Class']\n",
    "        \n",
    "        if cfg.undersample_val:\n",
    "            val_df = undersample(val_df, random_state=i)\n",
    "\n",
    "        X_val = val_df.drop('Class', axis=1)\n",
    "        y_val = val_df['Class']\n",
    "\n",
    "        X_test=test_df.copy()\n",
    "        if not cfg.running_on_private_test:\n",
    "            y_test = X_test['Class']\n",
    "            X_test = X_test.drop(\"Class\",axis=1)\n",
    "        \n",
    "        clf = lgb.LGBMClassifier(\n",
    "            boosting_type='GBDT',\n",
    "            # boosting_type='dart',\n",
    "            # n_estimators=80,\n",
    "            num_leaves=cfg.lgb.num_leaves,\n",
    "            n_estimators=cfg.lgb.boost_rounds,\n",
    "            objective='binary',\n",
    "            metric='None',\n",
    "            # objective=custom_loss,\n",
    "            # class_weight='balanced', # is_unbalance should be used for binary, and class_weight seems to not work at all\n",
    "            is_unbalance=cfg.lgb.is_unbalance,\n",
    "            random_state=cfg.seed,\n",
    "            subsample_for_bin=200_0000,\n",
    "            max_depth=cfg.lgb.max_depth,\n",
    "            min_child_samples=cfg.lgb.min_child_samples,\n",
    "            learning_rate=cfg.lgb.learning_rate,\n",
    "            colsample_bytree=cfg.lgb.colsample_bytree,\n",
    "            subsample_freq=cfg.lgb.subsample_freq,\n",
    "            subsample=cfg.lgb.subsample,\n",
    "            reg_alpha=cfg.lgb.reg_alpha,\n",
    "            reg_lambda=cfg.lgb.reg_lambda,\n",
    "            force_col_wise=True,\n",
    "            max_bin=cfg.lgb.max_bin,\n",
    "            max_bin_by_feature=max_bin_by_feature,\n",
    "            first_metric_only=True,\n",
    "        )\n",
    "\n",
    "        categorical_features = ['EJ'] if 'EJ' in features else []\n",
    "\n",
    "        fit_callbacks = [lgb.log_evaluation(2000)]\n",
    "        if cfg.lgb.use_early_stopping:\n",
    "            fit_callbacks.append(\n",
    "                lgb.early_stopping(\n",
    "                    cfg.lgb.early_stopping_rounds, \n",
    "                    first_metric_only=True,\n",
    "                    verbose=cfg.lgb.early_stopping_verbose)\n",
    "            )\n",
    "\n",
    "        clf.fit(\n",
    "            X_train.drop(\"Id\",axis=1), \n",
    "            y_train,\n",
    "            eval_set=[\n",
    "                (X_val.drop(\"Id\",axis=1), y_val), \n",
    "                (X_train.drop(\"Id\",axis=1), y_train),\n",
    "                # (X_test.drop(\"Id\",axis=1), y_test),\n",
    "            ], \n",
    "            eval_names=['val', 'train'],\n",
    "            # eval_metric='binary_logloss',\n",
    "            eval_metric=custom_eval_loss,\n",
    "            init_score=None, \n",
    "            feature_name=features,\n",
    "            categorical_feature=categorical_features,\n",
    "            callbacks=fit_callbacks\n",
    "        )\n",
    "\n",
    "        clf_li.append(clf)\n",
    "\n",
    "        # Val OOF:\n",
    "        new_col = f'preds_{val_fold}_{i}'\n",
    "        pred_val = clf.predict_proba(X_val.drop(\"Id\",axis=1), start_iteration=0,\n",
    "                                      num_iteration=clf.best_iteration_, raw_score=False)\n",
    "        if len(pred_val.shape)==2 and pred_val.shape[1]==2:\n",
    "            pred_val = pred_val[:,1]\n",
    "        val_df[new_col] = pred_val\n",
    "        val_preds_df = pd.merge(val_preds_df, val_df[['Id', new_col]], on='Id', how='left')\n",
    "\n",
    "        # Predict test:\n",
    "        if (clf.best_iteration_ > cfg.lgb.keep_over_iteration):\n",
    "            pred_test = clf.predict_proba(X_test.drop(\"Id\",axis=1), start_iteration=0,\n",
    "                                        num_iteration=clf.best_iteration_, raw_score=False)\n",
    "            if len(pred_test.shape)==2 and pred_test.shape[1]==2:\n",
    "                pred_test = pred_test[:,1]\n",
    "\n",
    "            if output_test is None:\n",
    "                output_test = pd.DataFrame(pred_test, columns=['pred' + str(i + 1)])\n",
    "                output_test2 = output_test\n",
    "            else:\n",
    "                output_test = pd.DataFrame(pred_test, columns=['pred' + str(i + 1)])\n",
    "                output_test2 = pd.concat([output_test2, output_test], axis=1)\n",
    "\n",
    "    # Val OOF:\n",
    "    subset = [col for col in val_preds_df.columns if 'preds_' in col]\n",
    "    val_preds_df = val_preds_df.dropna(axis=0, how='all', subset=subset)\n",
    "    val_preds_df['preds'] = val_preds_df[subset].mean(axis=1, skipna=True, numeric_only=True)\n",
    "    val_oof_acc = get_accuracy(y_pred=val_preds_df['preds'], y_true=val_preds_df['Class'])\n",
    "\n",
    "    pred_test = output_test2.mean(axis='columns')\n",
    "    \n",
    "    return pred_test, clf_li, val_oof_acc"
   ]
  },
  {
   "cell_type": "code",
   "execution_count": 25,
   "id": "8ef138dd",
   "metadata": {
    "execution": {
     "iopub.execute_input": "2023-08-07T12:15:37.910772Z",
     "iopub.status.busy": "2023-08-07T12:15:37.909451Z",
     "iopub.status.idle": "2023-08-07T12:15:37.914739Z",
     "shell.execute_reply": "2023-08-07T12:15:37.913840Z"
    },
    "papermill": {
     "duration": 0.043882,
     "end_time": "2023-08-07T12:15:37.917051",
     "exception": false,
     "start_time": "2023-08-07T12:15:37.873169",
     "status": "completed"
    },
    "tags": []
   },
   "outputs": [],
   "source": [
    "if cfg.filter_warnings:\n",
    "    warnings.filterwarnings('ignore')"
   ]
  },
  {
   "cell_type": "markdown",
   "id": "8227968d",
   "metadata": {
    "papermill": {
     "duration": 0.033865,
     "end_time": "2023-08-07T12:15:37.985632",
     "exception": false,
     "start_time": "2023-08-07T12:15:37.951767",
     "status": "completed"
    },
    "tags": []
   },
   "source": [
    "#### run"
   ]
  },
  {
   "cell_type": "code",
   "execution_count": 43,
   "id": "db7ecac3",
   "metadata": {
    "execution": {
     "iopub.execute_input": "2023-08-07T12:15:38.208385Z",
     "iopub.status.busy": "2023-08-07T12:15:38.207512Z",
     "iopub.status.idle": "2023-08-07T12:16:07.660285Z",
     "shell.execute_reply": "2023-08-07T12:16:07.658911Z"
    },
    "papermill": {
     "duration": 29.493346,
     "end_time": "2023-08-07T12:16:07.662864",
     "exception": false,
     "start_time": "2023-08-07T12:15:38.169518",
     "status": "completed"
    },
    "tags": []
   },
   "outputs": [
    {
     "name": "stdout",
     "output_type": "stream",
     "text": [
      "0\n",
      "(617, 70) (5, 69)\n",
      "(0.1904, 0.1677, 0.94, 0.7795, 0.9167)\n",
      "[0.1904]\n",
      "0.1904 0.0 0.0\n"
     ]
    }
   ],
   "source": [
    "if cfg.running_on_private_test:\n",
    "    oof_vals = []\n",
    "    for val in [0]:\n",
    "        print(val)\n",
    "        # cfg.seed = val\n",
    "\n",
    "        train_val_df = all_data_df.copy()\n",
    "        test_df = test_sample_df.copy()\n",
    "        \n",
    "        train_val_df, test_df = preprocess(train_val_df, test_df)\n",
    "        print(train_val_df.shape, test_df.shape)\n",
    "        pred_lgb, clf_li, val_oof_acc = lgb_train_predict(train_val_df, test_df)\n",
    "        clf = clf_li[-1]\n",
    "\n",
    "        print(val_oof_acc)\n",
    "        oof_vals.append(val_oof_acc[0])\n",
    "\n",
    "    print(oof_vals)\n",
    "    print(np.round(np.mean(oof_vals), 5), \n",
    "          np.round(np.max(oof_vals)-np.min(oof_vals), 5), \n",
    "          np.round(np.std(oof_vals), 5))\n",
    "    \n",
    "# 0\n",
    "# (617, 48) (5, 47)\n",
    "# (0.1812, 0.1639, 0.9433, 0.792, 0.9167)\n",
    "# 0.1812"
   ]
  },
  {
   "cell_type": "code",
   "execution_count": 34,
   "id": "2f4325b5",
   "metadata": {
    "execution": {
     "iopub.execute_input": "2023-08-07T12:16:07.732964Z",
     "iopub.status.busy": "2023-08-07T12:16:07.732573Z",
     "iopub.status.idle": "2023-08-07T12:16:35.726847Z",
     "shell.execute_reply": "2023-08-07T12:16:35.725687Z"
    },
    "papermill": {
     "duration": 28.032848,
     "end_time": "2023-08-07T12:16:35.729777",
     "exception": false,
     "start_time": "2023-08-07T12:16:07.696929",
     "status": "completed"
    },
    "tags": []
   },
   "outputs": [
    {
     "name": "stdout",
     "output_type": "stream",
     "text": [
      "100\n",
      "(617, 70) (5, 69)\n",
      "(0.2034, 0.1724, 0.9303, 0.76, 0.8796)\n",
      "[0.2034]\n",
      "0.2034 0.0 0.0\n"
     ]
    }
   ],
   "source": [
    "if cfg.running_on_private_test:\n",
    "    oof_vals = []\n",
    "    for val in [100]:\n",
    "        print(val)\n",
    "        # cfg.seed = val\n",
    "\n",
    "        train_val_df = all_data_df.copy()\n",
    "        test_df = test_sample_df.copy()\n",
    "        train_val_df, test_df = preprocess(train_val_df, test_df)\n",
    "        print(train_val_df.shape, test_df.shape)\n",
    "        pred_xgb, clf_li, val_oof_acc = xgb_train_predict(train_val_df, test_df)\n",
    "        clf = clf_li[-1]\n",
    "\n",
    "        print(val_oof_acc)\n",
    "        oof_vals.append(val_oof_acc[0])\n",
    "        \n",
    "    print(oof_vals)\n",
    "    print(np.round(np.mean(oof_vals), 5), \n",
    "          np.round(np.max(oof_vals)-np.min(oof_vals), 5), \n",
    "          np.round(np.std(oof_vals), 5))\n",
    "    \n",
    "# 100\n",
    "# (617, 48) (5, 47)\n",
    "# (0.1993, 0.1709, 0.9433, 0.7967, 0.9074)\n",
    "# [0.1993]\n",
    "# 0.1993 0.0 0.0"
   ]
  },
  {
   "cell_type": "code",
   "execution_count": null,
   "id": "b51402b4",
   "metadata": {
    "execution": {
     "iopub.execute_input": "2023-08-07T12:16:35.803658Z",
     "iopub.status.busy": "2023-08-07T12:16:35.803132Z",
     "iopub.status.idle": "2023-08-07T12:16:35.809463Z",
     "shell.execute_reply": "2023-08-07T12:16:35.808202Z"
    },
    "papermill": {
     "duration": 0.046618,
     "end_time": "2023-08-07T12:16:35.812361",
     "exception": false,
     "start_time": "2023-08-07T12:16:35.765743",
     "status": "completed"
    },
    "tags": []
   },
   "outputs": [],
   "source": [
    "pred = (pred_lgb + pred_xgb) / 2"
   ]
  },
  {
   "cell_type": "markdown",
   "id": "5be985a7",
   "metadata": {
    "papermill": {
     "duration": 0.039401,
     "end_time": "2023-08-07T12:16:38.839202",
     "exception": false,
     "start_time": "2023-08-07T12:16:38.799801",
     "status": "completed"
    },
    "tags": []
   },
   "source": [
    "# Submission"
   ]
  },
  {
   "cell_type": "code",
   "execution_count": null,
   "id": "2800eddb",
   "metadata": {
    "execution": {
     "iopub.execute_input": "2023-08-07T12:16:38.923059Z",
     "iopub.status.busy": "2023-08-07T12:16:38.922603Z",
     "iopub.status.idle": "2023-08-07T12:16:38.930858Z",
     "shell.execute_reply": "2023-08-07T12:16:38.929414Z"
    },
    "papermill": {
     "duration": 0.053613,
     "end_time": "2023-08-07T12:16:38.933516",
     "exception": false,
     "start_time": "2023-08-07T12:16:38.879903",
     "status": "completed"
    },
    "tags": []
   },
   "outputs": [],
   "source": [
    "submit=pd.DataFrame(test_df[\"Id\"], columns=[\"Id\"])"
   ]
  },
  {
   "cell_type": "code",
   "execution_count": null,
   "id": "2f4af506",
   "metadata": {
    "execution": {
     "iopub.execute_input": "2023-08-07T12:16:39.019008Z",
     "iopub.status.busy": "2023-08-07T12:16:39.018141Z",
     "iopub.status.idle": "2023-08-07T12:16:39.027035Z",
     "shell.execute_reply": "2023-08-07T12:16:39.025536Z"
    },
    "papermill": {
     "duration": 0.054642,
     "end_time": "2023-08-07T12:16:39.029757",
     "exception": false,
     "start_time": "2023-08-07T12:16:38.975115",
     "status": "completed"
    },
    "tags": []
   },
   "outputs": [],
   "source": [
    "submit[\"class_0\"]=1-pred\n",
    "submit[\"class_1\"]=pred"
   ]
  },
  {
   "cell_type": "code",
   "execution_count": null,
   "id": "f96a4417",
   "metadata": {
    "execution": {
     "iopub.execute_input": "2023-08-07T12:16:39.112749Z",
     "iopub.status.busy": "2023-08-07T12:16:39.112253Z",
     "iopub.status.idle": "2023-08-07T12:16:39.127623Z",
     "shell.execute_reply": "2023-08-07T12:16:39.125953Z"
    },
    "papermill": {
     "duration": 0.060447,
     "end_time": "2023-08-07T12:16:39.130795",
     "exception": false,
     "start_time": "2023-08-07T12:16:39.070348",
     "status": "completed"
    },
    "tags": []
   },
   "outputs": [],
   "source": [
    "submit.to_csv('submission.csv',index=False)"
   ]
  },
  {
   "cell_type": "code",
   "execution_count": null,
   "id": "febfb805",
   "metadata": {
    "execution": {
     "iopub.execute_input": "2023-08-07T12:16:39.218100Z",
     "iopub.status.busy": "2023-08-07T12:16:39.217654Z",
     "iopub.status.idle": "2023-08-07T12:16:39.248508Z",
     "shell.execute_reply": "2023-08-07T12:16:39.247029Z"
    },
    "papermill": {
     "duration": 0.077748,
     "end_time": "2023-08-07T12:16:39.251695",
     "exception": false,
     "start_time": "2023-08-07T12:16:39.173947",
     "status": "completed"
    },
    "tags": []
   },
   "outputs": [
    {
     "data": {
      "text/html": [
       "<div>\n",
       "<style scoped>\n",
       "    .dataframe tbody tr th:only-of-type {\n",
       "        vertical-align: middle;\n",
       "    }\n",
       "\n",
       "    .dataframe tbody tr th {\n",
       "        vertical-align: top;\n",
       "    }\n",
       "\n",
       "    .dataframe thead th {\n",
       "        text-align: right;\n",
       "    }\n",
       "</style>\n",
       "<table border=\"1\" class=\"dataframe\">\n",
       "  <thead>\n",
       "    <tr style=\"text-align: right;\">\n",
       "      <th></th>\n",
       "      <th>Id</th>\n",
       "      <th>class_0</th>\n",
       "      <th>class_1</th>\n",
       "    </tr>\n",
       "  </thead>\n",
       "  <tbody>\n",
       "    <tr>\n",
       "      <th>0</th>\n",
       "      <td>00eed32682bb</td>\n",
       "      <td>0.77905</td>\n",
       "      <td>0.22095</td>\n",
       "    </tr>\n",
       "    <tr>\n",
       "      <th>1</th>\n",
       "      <td>010ebe33f668</td>\n",
       "      <td>0.77905</td>\n",
       "      <td>0.22095</td>\n",
       "    </tr>\n",
       "    <tr>\n",
       "      <th>2</th>\n",
       "      <td>02fa521e1838</td>\n",
       "      <td>0.77905</td>\n",
       "      <td>0.22095</td>\n",
       "    </tr>\n",
       "    <tr>\n",
       "      <th>3</th>\n",
       "      <td>040e15f562a2</td>\n",
       "      <td>0.77905</td>\n",
       "      <td>0.22095</td>\n",
       "    </tr>\n",
       "    <tr>\n",
       "      <th>4</th>\n",
       "      <td>046e85c7cc7f</td>\n",
       "      <td>0.77905</td>\n",
       "      <td>0.22095</td>\n",
       "    </tr>\n",
       "  </tbody>\n",
       "</table>\n",
       "</div>"
      ],
      "text/plain": [
       "             Id  class_0  class_1\n",
       "0  00eed32682bb  0.77905  0.22095\n",
       "1  010ebe33f668  0.77905  0.22095\n",
       "2  02fa521e1838  0.77905  0.22095\n",
       "3  040e15f562a2  0.77905  0.22095\n",
       "4  046e85c7cc7f  0.77905  0.22095"
      ]
     },
     "execution_count": 91,
     "metadata": {},
     "output_type": "execute_result"
    }
   ],
   "source": [
    "submit"
   ]
  }
 ],
 "metadata": {
  "kernelspec": {
   "display_name": "Python 3",
   "language": "python",
   "name": "python3"
  },
  "language_info": {
   "codemirror_mode": {
    "name": "ipython",
    "version": 3
   },
   "file_extension": ".py",
   "mimetype": "text/x-python",
   "name": "python",
   "nbconvert_exporter": "python",
   "pygments_lexer": "ipython3",
   "version": "3.10.4"
  },
  "papermill": {
   "default_parameters": {},
   "duration": 91.700869,
   "end_time": "2023-08-07T12:16:43.616034",
   "environment_variables": {},
   "exception": null,
   "input_path": "__notebook__.ipynb",
   "output_path": "__notebook__.ipynb",
   "parameters": {},
   "start_time": "2023-08-07T12:15:11.915165",
   "version": "2.4.0"
  }
 },
 "nbformat": 4,
 "nbformat_minor": 5
}
